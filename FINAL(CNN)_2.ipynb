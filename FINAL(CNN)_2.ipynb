{
  "nbformat": 4,
  "nbformat_minor": 0,
  "metadata": {
    "colab": {
      "name": "FINAL(CNN)_2",
      "provenance": [],
      "collapsed_sections": [],
      "authorship_tag": "ABX9TyOLL/0hMY6b4KjtYvjyBPkx",
      "include_colab_link": true
    },
    "kernelspec": {
      "name": "python3",
      "display_name": "Python 3"
    },
    "language_info": {
      "name": "python"
    },
    "accelerator": "GPU"
  },
  "cells": [
    {
      "cell_type": "markdown",
      "metadata": {
        "id": "view-in-github",
        "colab_type": "text"
      },
      "source": [
        "<a href=\"https://colab.research.google.com/github/Joolyhooly/2021_cphys2/blob/main/FINAL(CNN)_2.ipynb\" target=\"_parent\"><img src=\"https://colab.research.google.com/assets/colab-badge.svg\" alt=\"Open In Colab\"/></a>"
      ]
    },
    {
      "cell_type": "code",
      "execution_count": 107,
      "metadata": {
        "id": "_s5kEyWgGNv8"
      },
      "outputs": [],
      "source": [
        "import torch\n",
        "from torch import nn\n",
        "from torch.utils.data import DataLoader\n",
        "from torchvision import datasets\n",
        "from torchvision.transforms import ToTensor\n"
      ]
    },
    {
      "cell_type": "code",
      "source": [
        "device = 'cuda' if torch.cuda.is_available() else 'cpu'\n",
        "random.seed(111)\n",
        "torch.manual_seed(777)\n",
        "if device == 'cuda':\n",
        "    torch.cuda.manual_seed_all(777)\n",
        "\n",
        "print(\"Device : \", device) #MACHINE LEARNING에 GPU사용"
      ],
      "metadata": {
        "colab": {
          "base_uri": "https://localhost:8080/"
        },
        "id": "ChlgfRRFGYJN",
        "outputId": "544fa6e8-89d3-4477-90e7-0c94c7316272"
      },
      "execution_count": 108,
      "outputs": [
        {
          "output_type": "stream",
          "name": "stdout",
          "text": [
            "Device :  cuda\n"
          ]
        }
      ]
    },
    {
      "cell_type": "code",
      "source": [
        "learning_rate = 0.001\n",
        "batch_size = 256\n",
        "epochs = 40"
      ],
      "metadata": {
        "id": "yabYZHwKGYZE"
      },
      "execution_count": 109,
      "outputs": []
    },
    {
      "cell_type": "code",
      "source": [
        "# CIFAR10 data 불러오기\n",
        "train_data = datasets.CIFAR10(\n",
        "    root=\"data\",\n",
        "    train=True,\n",
        "    download=True,\n",
        "    transform=ToTensor()\n",
        ")\n",
        "\n",
        "test_data = datasets.CIFAR10(\n",
        "    root=\"data\",\n",
        "    train=False,\n",
        "    download=True,\n",
        "    transform=ToTensor()\n",
        ")\n",
        "\n",
        "train_dataloader = DataLoader(train_data, batch_size=batch_size)\n",
        "test_dataloader = DataLoader(test_data, batch_size=batch_size)"
      ],
      "metadata": {
        "colab": {
          "base_uri": "https://localhost:8080/"
        },
        "id": "yjRoeamLGYiA",
        "outputId": "8a9f0374-fd7d-4b02-e27b-ad959f1f3db5"
      },
      "execution_count": 110,
      "outputs": [
        {
          "output_type": "stream",
          "name": "stdout",
          "text": [
            "Files already downloaded and verified\n",
            "Files already downloaded and verified\n"
          ]
        }
      ]
    },
    {
      "cell_type": "code",
      "source": [
        "# CNN Model\n",
        "class CNN(torch.nn.Module):\n",
        "\n",
        "    def __init__(self):\n",
        "        super(CNN, self).__init__()\n",
        "        self.keep_prob = 0.75\n",
        "        self.layer1 = nn.Sequential( #nn.Sequential로 아래 코드 한번에 진행되게함\n",
        "            nn.Conv2d(3, 32, kernel_size=3, stride=1, padding='same'), #Input=3, output=32 \n",
        "            nn.ReLU(),\n",
        "            nn.BatchNorm2d(32), #batchNorm으로 평균과 분순 학습시 같이 조정\n",
        "            nn.MaxPool2d(kernel_size=2, stride=2), #Activation map의 특정 영역에서 최댓값 모음.\n",
        "            nn.Dropout(p=0.2)) #Dropout을 통해 p의 확률로 뉴런을 버려 과적합 방지\n",
        "        \n",
        "        self.layer2 = nn.Sequential(\n",
        "            nn.Conv2d(32, 64, kernel_size=3, stride=1, padding='same'), #Input=32 output=64\n",
        "            nn.ReLU(),\n",
        "            nn.BatchNorm2d(64),\n",
        "            nn.MaxPool2d(kernel_size=2, stride=2),\n",
        "            nn.Dropout(p=0.25))\n",
        "\n",
        "        self.layer3 = nn.Sequential(\n",
        "            nn.Conv2d(64, 128, kernel_size=3, stride=1, padding='same'), #input=64 output=128\n",
        "            nn.ReLU(),\n",
        "            nn.BatchNorm2d(128),\n",
        "            nn.MaxPool2d(kernel_size=2, stride=2),\n",
        "            nn.Dropout(p=0.2))\n",
        "        \n",
        "        self.layer4 = nn.Sequential(\n",
        "            nn.Conv2d(128, 64, kernel_size=3, stride=1, padding='same'), #input= 128, output=64\n",
        "            nn.ReLU(),\n",
        "            nn.MaxPool2d(kernel_size=2, stride=2),\n",
        "            nn.Dropout(p=0.25))\n",
        "        \n",
        "        self.layer5 = nn.Sequential(\n",
        "            nn.Conv2d(64, 128, kernel_size=3, stride=1, padding='same'), #input = 64, output = 128\n",
        "            nn.ReLU(),\n",
        "            nn.MaxPool2d(kernel_size=2, stride=2),\n",
        "            nn.Dropout(p=0.5))\n",
        "        \n",
        "        \n",
        "        self.fc1 = nn.Linear(128, 256, bias=True) #input=128 output= 256\n",
        "        nn.init.xavier_uniform_(self.fc1.weight)\n",
        "        \n",
        "        self.fc2 = nn.Linear(256, 10, bias=True) #input = 128 output = 10\n",
        "        nn.init.xavier_uniform_(self.fc2.weight)\n",
        "        \n",
        "    \n",
        "    def forward(self, x):\n",
        "        out = self.layer1(x)\n",
        "        out = self.layer2(out)\n",
        "        out = self.layer3(out)\n",
        "        out = self.layer4(out)\n",
        "        out = self.layer5(out)\n",
        "        out = out.view(out.size(0), -1)   # Flatten them for FC\n",
        "        out = self.fc1(out)\n",
        "        out = self.fc2(out)\n",
        "        return out\n",
        "\n",
        "\n",
        "\n",
        "model = CNN().to(device)\n"
      ],
      "metadata": {
        "id": "qI0usVUuGYj2"
      },
      "execution_count": 111,
      "outputs": []
    },
    {
      "cell_type": "code",
      "source": [
        "# Initialize the loss function\n",
        "loss_fn = nn.CrossEntropyLoss().to(device)\n",
        "optimizer = torch.optim.Adam(model.parameters(), lr=learning_rate) #Adam 사용."
      ],
      "metadata": {
        "id": "2FMRLXWgGw1w"
      },
      "execution_count": 112,
      "outputs": []
    },
    {
      "cell_type": "code",
      "source": [
        "#train 함수 정의\n",
        "def train_loop(dataloader, model, loss_fn, optimizer): \n",
        "    size = len(dataloader.dataset)\n",
        "    num_batches = len(dataloader)\n",
        "    \n",
        "    train_loss, correct = 0, 0\n",
        "    for batch, (X, y) in enumerate(dataloader): #batch로 나누어주기\n",
        "\n",
        "        X = X.to(device)\n",
        "        y = y.to(device)\n",
        "\n",
        "        # Compute prediction and loss\n",
        "        pred = model(X)\n",
        "        loss = loss_fn(pred, y)\n",
        "        train_loss += loss.item()\n",
        "        correct += (pred.argmax(1) == y).type(torch.float).sum().item()\n",
        "\n",
        "        # Backpropagation\n",
        "        optimizer.zero_grad()\n",
        "        loss.backward()\n",
        "        optimizer.step()\n",
        "\n",
        "    train_loss /= num_batches\n",
        "    correct /= size\n",
        "    print(f\"Train - Avg loss: {train_loss:>8f},  Accuracy: {(100*correct):>0.1f}%\", end = \"  \")\n",
        "\n",
        "    return train_loss, correct\n",
        "\n",
        "#test 함수 정의\n",
        "def test_loop(dataloader, model, loss_fn):\n",
        "    size = len(dataloader.dataset)\n",
        "    num_batches = len(dataloader)\n",
        "    test_loss, correct = 0, 0\n",
        "\n",
        "    with torch.no_grad():\n",
        "        for X, y in dataloader:\n",
        "            X = X.to(device)\n",
        "            y = y.to(device)\n",
        "\n",
        "            pred = model(X)\n",
        "            test_loss += loss_fn(pred, y).item()\n",
        "            correct += (pred.argmax(1) == y).type(torch.float).sum().item()\n",
        "\n",
        "    test_loss /= num_batches\n",
        "    correct /= size\n",
        "    print(f\"Test - Avg loss: {test_loss:>8f}  Accuracy: {(100*correct):>0.1f}%\")\n",
        "\n",
        "    return test_loss, correct"
      ],
      "metadata": {
        "id": "ElMUyiwlGxbr"
      },
      "execution_count": 113,
      "outputs": []
    },
    {
      "cell_type": "code",
      "source": [
        "train_loss = []\n",
        "train_acc = []\n",
        "test_loss = []\n",
        "test_acc = []\n",
        "for t in range(epochs): # train loss, test loss for문에 넣음으로써 한번에 볼 수 있음 \n",
        "    print(f\"Epoch {t+1} :\", end= \"  \") #Epoch 0부터 1 증가\n",
        "    model.train()\n",
        "    loss, acc = train_loop(train_dataloader, model, loss_fn, optimizer)\n",
        "    train_loss.append(loss) #train[]에 loss, acc 값 추가\n",
        "    train_acc.append(acc)\n",
        "\n",
        "    loss_t, acc_t = test_loop(test_dataloader, model, loss_fn)\n",
        "    test_loss.append(loss_t) #test[]에 loss, acc 값 추가\n",
        "    test_acc.append(acc_t)   \n",
        "\n",
        "print(\"Done!\")"
      ],
      "metadata": {
        "colab": {
          "base_uri": "https://localhost:8080/"
        },
        "id": "Cd-z_KcOG1x8",
        "outputId": "e905bf47-f1d2-42a1-9632-260d25dea9fa"
      },
      "execution_count": 118,
      "outputs": [
        {
          "output_type": "stream",
          "name": "stdout",
          "text": [
            "Epoch 1 :  Train - Avg loss: 0.377625,  Accuracy: 86.9%  Test - Avg loss: 0.770570  Accuracy: 76.7%\n",
            "Epoch 2 :  Train - Avg loss: 0.381110,  Accuracy: 86.9%  Test - Avg loss: 0.756892  Accuracy: 77.3%\n",
            "Epoch 3 :  Train - Avg loss: 0.381685,  Accuracy: 86.9%  Test - Avg loss: 0.744309  Accuracy: 77.2%\n",
            "Epoch 4 :  Train - Avg loss: 0.375269,  Accuracy: 86.9%  Test - Avg loss: 0.766148  Accuracy: 77.8%\n",
            "Epoch 5 :  Train - Avg loss: 0.372584,  Accuracy: 87.1%  Test - Avg loss: 0.729382  Accuracy: 78.1%\n",
            "Epoch 6 :  Train - Avg loss: 0.375077,  Accuracy: 87.0%  Test - Avg loss: 0.751266  Accuracy: 77.9%\n",
            "Epoch 7 :  Train - Avg loss: 0.373522,  Accuracy: 87.1%  Test - Avg loss: 0.745657  Accuracy: 77.7%\n",
            "Epoch 8 :  Train - Avg loss: 0.373661,  Accuracy: 87.0%  Test - Avg loss: 0.755826  Accuracy: 77.4%\n",
            "Epoch 9 :  Train - Avg loss: 0.369285,  Accuracy: 87.4%  Test - Avg loss: 0.741098  Accuracy: 77.8%\n",
            "Epoch 10 :  Train - Avg loss: 0.373686,  Accuracy: 86.9%  Test - Avg loss: 0.771049  Accuracy: 77.4%\n",
            "Epoch 11 :  Train - Avg loss: 0.369769,  Accuracy: 87.2%  Test - Avg loss: 0.769248  Accuracy: 77.0%\n",
            "Epoch 12 :  Train - Avg loss: 0.368987,  Accuracy: 87.3%  Test - Avg loss: 0.766431  Accuracy: 77.3%\n",
            "Epoch 13 :  Train - Avg loss: 0.366902,  Accuracy: 87.3%  Test - Avg loss: 0.758209  Accuracy: 78.1%\n",
            "Epoch 14 :  Train - Avg loss: 0.368249,  Accuracy: 87.5%  Test - Avg loss: 0.752788  Accuracy: 77.7%\n",
            "Epoch 15 :  Train - Avg loss: 0.365493,  Accuracy: 87.5%  Test - Avg loss: 0.757315  Accuracy: 77.2%\n",
            "Epoch 16 :  Train - Avg loss: 0.368673,  Accuracy: 87.2%  Test - Avg loss: 0.760810  Accuracy: 77.7%\n",
            "Epoch 17 :  Train - Avg loss: 0.372252,  Accuracy: 87.1%  Test - Avg loss: 0.748300  Accuracy: 77.8%\n",
            "Epoch 18 :  Train - Avg loss: 0.359852,  Accuracy: 87.6%  Test - Avg loss: 0.726026  Accuracy: 78.3%\n",
            "Epoch 19 :  Train - Avg loss: 0.366971,  Accuracy: 87.3%  Test - Avg loss: 0.766445  Accuracy: 77.6%\n",
            "Epoch 20 :  Train - Avg loss: 0.370333,  Accuracy: 87.3%  Test - Avg loss: 0.749363  Accuracy: 77.1%\n",
            "Epoch 21 :  Train - Avg loss: 0.369264,  Accuracy: 87.3%  Test - Avg loss: 0.744805  Accuracy: 78.0%\n",
            "Epoch 22 :  Train - Avg loss: 0.362681,  Accuracy: 87.5%  Test - Avg loss: 0.759600  Accuracy: 77.9%\n",
            "Epoch 23 :  Train - Avg loss: 0.364063,  Accuracy: 87.4%  Test - Avg loss: 0.750719  Accuracy: 77.7%\n",
            "Epoch 24 :  Train - Avg loss: 0.360351,  Accuracy: 87.6%  Test - Avg loss: 0.763542  Accuracy: 77.9%\n",
            "Epoch 25 :  Train - Avg loss: 0.362622,  Accuracy: 87.5%  Test - Avg loss: 0.753307  Accuracy: 77.4%\n",
            "Epoch 26 :  Train - Avg loss: 0.358412,  Accuracy: 87.8%  Test - Avg loss: 0.803206  Accuracy: 76.9%\n",
            "Epoch 27 :  Train - Avg loss: 0.358863,  Accuracy: 87.4%  Test - Avg loss: 0.761121  Accuracy: 77.3%\n",
            "Epoch 28 :  Train - Avg loss: 0.358875,  Accuracy: 87.6%  Test - Avg loss: 0.740507  Accuracy: 78.0%\n",
            "Epoch 29 :  Train - Avg loss: 0.357379,  Accuracy: 87.6%  Test - Avg loss: 0.751117  Accuracy: 77.7%\n",
            "Epoch 30 :  Train - Avg loss: 0.354637,  Accuracy: 87.8%  Test - Avg loss: 0.762241  Accuracy: 77.4%\n",
            "Epoch 31 :  Train - Avg loss: 0.356972,  Accuracy: 87.8%  Test - Avg loss: 0.769159  Accuracy: 78.0%\n",
            "Epoch 32 :  Train - Avg loss: 0.351881,  Accuracy: 88.0%  Test - Avg loss: 0.742818  Accuracy: 77.9%\n",
            "Epoch 33 :  Train - Avg loss: 0.361124,  Accuracy: 87.5%  Test - Avg loss: 0.749763  Accuracy: 78.0%\n",
            "Epoch 34 :  Train - Avg loss: 0.358261,  Accuracy: 87.7%  Test - Avg loss: 0.734510  Accuracy: 78.3%\n",
            "Epoch 35 :  Train - Avg loss: 0.359146,  Accuracy: 87.6%  Test - Avg loss: 0.740180  Accuracy: 77.9%\n",
            "Epoch 36 :  Train - Avg loss: 0.351395,  Accuracy: 87.9%  Test - Avg loss: 0.758204  Accuracy: 77.9%\n",
            "Epoch 37 :  Train - Avg loss: 0.354941,  Accuracy: 87.7%  Test - Avg loss: 0.744943  Accuracy: 77.4%\n",
            "Epoch 38 :  Train - Avg loss: 0.345816,  Accuracy: 88.1%  Test - Avg loss: 0.769809  Accuracy: 77.8%\n",
            "Epoch 39 :  Train - Avg loss: 0.349218,  Accuracy: 87.9%  Test - Avg loss: 0.785966  Accuracy: 77.5%\n",
            "Epoch 40 :  Train - Avg loss: 0.350655,  Accuracy: 87.8%  Test - Avg loss: 0.775780  Accuracy: 77.1%\n",
            "Done!\n"
          ]
        }
      ]
    },
    {
      "cell_type": "markdown",
      "source": [
        ""
      ],
      "metadata": {
        "id": "k1yUK-ayubyQ"
      }
    },
    {
      "cell_type": "code",
      "source": [
        "print('test accuracy: {}'.format(test_acc[-1]))"
      ],
      "metadata": {
        "colab": {
          "base_uri": "https://localhost:8080/"
        },
        "id": "EIHFROZ7JmTS",
        "outputId": "6a6dc61f-d634-4e2a-b1a8-ef463b72dc99"
      },
      "execution_count": 120,
      "outputs": [
        {
          "output_type": "stream",
          "name": "stdout",
          "text": [
            "test accuracy: 0.7714\n"
          ]
        }
      ]
    },
    {
      "cell_type": "markdown",
      "source": [
        "# 보고서\n",
        "Cuda를 활용한 gpu모드로 동작시켜줌으로써 더 빠르게 학습할 수 있도록 하였다.\n",
        "optimizer의  learning rate를 0.001로, batch_size를 256으로 두어 train_data를 mini_batch화 했고, epoch를 40번으로 여러번 돌려 학습 시켰다.\n",
        "Train_data = dataset.CIFAR10과 test_data = dataset.CIFAR10을 통해 torchvision에 있는 dataset인 CIFAR10 data를 불러왔다.\n",
        "CiFAR_10 dataset은 32*32 size의 image를 6만개 포함하고, 3개의 RGB channel이 존재한다. \n",
        "즉 60000*32*32*3개가 존재하는 것 이다. 이 중 10000개의 데이터는 test data로 들어가고, 50000개의 데이터는 train data로 들어간다. \n",
        "Model은 총 5개의 Conv2d 레이어로 구성하였고, 필터의 사이즈는 kernel size와 같은데, 3*3 크기의 필터를 이용하여 stride의 크기인 \n",
        "1칸씩 이동시켜가며 진행하였다. 각 conv2d 레이어에서 activation function은 max(0, x)를 의미하는 함수인 ReLU로 \n",
        "미분 값이 0과 1만을 가지고 계속해서 작아지는 문제를 줄여주었다.\n",
        "그리고, 각 레이어마다 Batch normalization을 통해 평균과 분산 조정 신경망 안에 넣어 학습 시 같이 조정될 수 있도록 하였고, \n",
        "maxpool2d로 activation map에서 특정 영역의 최댓값만 모으는 과정을 처리하였다. \n",
        "그 다음엔 dropout에서 p의 확률로 뉴런을 버려 과적합을 방지하는 것을 각 레이어에 적용하였다. \n",
        "이 conv2d함수는 2차원의 함수이기 때문에, 1차원으로 내려주는 과정이 필요하다. 이를 flatten이라고 하며, \n",
        "Forward에서 view()를 통해 그것을 진행하였고, 이를 softmax 함수를 통해 0~9사이의 값인 총 10개의 클래스로 분류하는 과정을 진행하여 주었다.\n",
        "이후 model 학습 solution 수렴을 위한 최적화 모델로 다중분류에 사용하는 대표적인 손실함수 \n",
        "CrossEntropyloss와 gradient를 구해서 weight값을 변화시키는 optimizer로 Adam을 사용했다.\n",
        "Train함수 정의 후 train 함수의 예측 및 손실을 계산하고, backpropagation를 진행시켜 더 나은 결과값을 얻고자하였다. \n",
        "For t in range의 for문에 train loss, test loss를 넣어 한번에 볼 수 있게 했다. \n",
        "이후 append를 통해 train[]과 test[]에 loss와 acc값을 각 각 추가해주었고, print(‘test accuracy’)를 통해 test의 정확도를 도출했고, \n",
        "그 결과 0.7714의 정확도를 보이는것을 알 수 있었다."
      ],
      "metadata": {
        "id": "IbC3ef-J6mK6"
      }
    }
  ]
}