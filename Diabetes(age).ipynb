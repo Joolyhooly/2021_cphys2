{
 "cells": [
  {
   "cell_type": "code",
   "execution_count": 2,
   "id": "61b15e8a",
   "metadata": {},
   "outputs": [],
   "source": [
    "import numpy as np\n",
    "import matplotlib.pyplot as plt"
   ]
  },
  {
   "cell_type": "code",
   "execution_count": 3,
   "id": "64883730",
   "metadata": {},
   "outputs": [],
   "source": [
    "from sklearn import datasets"
   ]
  },
  {
   "cell_type": "code",
   "execution_count": 4,
   "id": "667b2d0c",
   "metadata": {},
   "outputs": [],
   "source": [
    "diabetes =datasets.load_diabetes()"
   ]
  },
  {
   "cell_type": "code",
   "execution_count": 5,
   "id": "30fcf41c",
   "metadata": {},
   "outputs": [
    {
     "data": {
      "text/plain": [
       "dict_keys(['data', 'target', 'frame', 'DESCR', 'feature_names', 'data_filename', 'target_filename'])"
      ]
     },
     "execution_count": 5,
     "metadata": {},
     "output_type": "execute_result"
    }
   ],
   "source": [
    "diabetes.keys()"
   ]
  },
  {
   "cell_type": "code",
   "execution_count": 6,
   "id": "80132254",
   "metadata": {},
   "outputs": [
    {
     "name": "stdout",
     "output_type": "stream",
     "text": [
      ".. _diabetes_dataset:\n",
      "\n",
      "Diabetes dataset\n",
      "----------------\n",
      "\n",
      "Ten baseline variables, age, sex, body mass index, average blood\n",
      "pressure, and six blood serum measurements were obtained for each of n =\n",
      "442 diabetes patients, as well as the response of interest, a\n",
      "quantitative measure of disease progression one year after baseline.\n",
      "\n",
      "**Data Set Characteristics:**\n",
      "\n",
      "  :Number of Instances: 442\n",
      "\n",
      "  :Number of Attributes: First 10 columns are numeric predictive values\n",
      "\n",
      "  :Target: Column 11 is a quantitative measure of disease progression one year after baseline\n",
      "\n",
      "  :Attribute Information:\n",
      "      - age     age in years\n",
      "      - sex\n",
      "      - bmi     body mass index\n",
      "      - bp      average blood pressure\n",
      "      - s1      tc, T-Cells (a type of white blood cells)\n",
      "      - s2      ldl, low-density lipoproteins\n",
      "      - s3      hdl, high-density lipoproteins\n",
      "      - s4      tch, thyroid stimulating hormone\n",
      "      - s5      ltg, lamotrigine\n",
      "      - s6      glu, blood sugar level\n",
      "\n",
      "Note: Each of these 10 feature variables have been mean centered and scaled by the standard deviation times `n_samples` (i.e. the sum of squares of each column totals 1).\n",
      "\n",
      "Source URL:\n",
      "https://www4.stat.ncsu.edu/~boos/var.select/diabetes.html\n",
      "\n",
      "For more information see:\n",
      "Bradley Efron, Trevor Hastie, Iain Johnstone and Robert Tibshirani (2004) \"Least Angle Regression,\" Annals of Statistics (with discussion), 407-499.\n",
      "(https://web.stanford.edu/~hastie/Papers/LARS/LeastAngle_2002.pdf)\n"
     ]
    }
   ],
   "source": [
    "print(diabetes.DESCR)"
   ]
  },
  {
   "cell_type": "code",
   "execution_count": 7,
   "id": "cfa2770b",
   "metadata": {},
   "outputs": [],
   "source": [
    "X_age=diabetes.data[:,0]\n",
    "Y=diabetes.target"
   ]
  },
  {
   "cell_type": "code",
   "execution_count": 8,
   "id": "7c60ec80",
   "metadata": {},
   "outputs": [],
   "source": [
    "a=100;b=100\n",
    "\n",
    "def f(a,b,X_age):\n",
    "    return a*X_age+b \n",
    "\n",
    "def mse(a,b,X_age):\n",
    "    Y_hat=np.array([f(a,b,X_age)])\n",
    "    return np.mean((Y_hat-Y)**2)"
   ]
  },
  {
   "cell_type": "code",
   "execution_count": 9,
   "id": "a1ea1924",
   "metadata": {},
   "outputs": [
    {
     "data": {
      "text/plain": [
       "8532.77010202339"
      ]
     },
     "execution_count": 9,
     "metadata": {},
     "output_type": "execute_result"
    }
   ],
   "source": [
    "mse(a,b,X_age)"
   ]
  },
  {
   "cell_type": "code",
   "execution_count": 10,
   "id": "66c0465f",
   "metadata": {},
   "outputs": [],
   "source": [
    "d=0.01\n",
    "n=0;\n",
    "while(n<100000):\n",
    "    if(mse(a+d,b,X_age)>mse(a-d,b,X_age)):\n",
    "        a=a-d\n",
    "    else:\n",
    "        a=a+d\n",
    "        \n",
    "    if(mse(a,b+d,X_age)>mse(a,b-d,X_age)):\n",
    "        b=b-d\n",
    "    else:\n",
    "        b=b+d\n",
    "    n=n+1    "
   ]
  },
  {
   "cell_type": "code",
   "execution_count": 13,
   "id": "1e40b655",
   "metadata": {},
   "outputs": [
    {
     "data": {
      "text/plain": [
       "(304.1799999998541, 152.13999999999237)"
      ]
     },
     "execution_count": 13,
     "metadata": {},
     "output_type": "execute_result"
    }
   ],
   "source": [
    "a,b"
   ]
  },
  {
   "cell_type": "code",
   "execution_count": 15,
   "id": "0194c2ab",
   "metadata": {},
   "outputs": [
    {
     "data": {
      "text/plain": [
       "[<matplotlib.lines.Line2D at 0x14ecf796520>]"
      ]
     },
     "execution_count": 15,
     "metadata": {},
     "output_type": "execute_result"
    },
    {
     "data": {
      "image/png": "[encoded data removed]",
      "text/plain": [
       "<Figure size 432x288 with 1 Axes>"
      ]
     },
     "metadata": {
      "needs_background": "light"
     },
     "output_type": "display_data"
    }
   ],
   "source": [
    "plt.plot(X_age,Y,'o')\n",
    "plt.title('diabetes Linear Regression')\n",
    "plt.xlabel('age')\n",
    "plt.ylabel('Dia_progress')\n",
    "plt.plot(X_age,f(a,b,X_age), color='red')"
   ]
  },
  {
   "cell_type": "code",
   "execution_count": 17,
   "id": "68cbd476",
   "metadata": {},
   "outputs": [],
   "source": [
    "from sklearn.linear_model import LinearRegression"
   ]
  },
  {
   "cell_type": "code",
   "execution_count": 18,
   "id": "ba8bd264",
   "metadata": {},
   "outputs": [],
   "source": [
    "X_age.reshape(-1,1)\n",
    "X_age = X_age.reshape(-1,1)"
   ]
  },
  {
   "cell_type": "code",
   "execution_count": 19,
   "id": "20ce2af2",
   "metadata": {},
   "outputs": [
    {
     "data": {
      "text/plain": [
       "LinearRegression()"
      ]
     },
     "execution_count": 19,
     "metadata": {},
     "output_type": "execute_result"
    }
   ],
   "source": [
    "model=LinearRegression()\n",
    "model.fit(X_age,Y)"
   ]
  },
  {
   "cell_type": "code",
   "execution_count": 20,
   "id": "c500ec5c",
   "metadata": {},
   "outputs": [
    {
     "name": "stdout",
     "output_type": "stream",
     "text": [
      "coefficiet= [304.18307453]\n",
      "intercept= 152.13348416289605\n"
     ]
    }
   ],
   "source": [
    "print('coefficiet=', model.coef_)\n",
    "print('intercept=', model.intercept_)"
   ]
  },
  {
   "cell_type": "code",
   "execution_count": 21,
   "id": "f65b7dad",
   "metadata": {},
   "outputs": [
    {
     "data": {
      "text/plain": [
       "[<matplotlib.lines.Line2D at 0x14ed0a30970>]"
      ]
     },
     "execution_count": 21,
     "metadata": {},
     "output_type": "execute_result"
    },
    {
     "data": {
      "image/png": "[encoded data removed]",
      "text/plain": [
       "<Figure size 432x288 with 1 Axes>"
      ]
     },
     "metadata": {
      "needs_background": "light"
     },
     "output_type": "display_data"
    }
   ],
   "source": [
    "plt.plot(X_age,Y,'o')\n",
    "plt.title('diabetes Linear Regression')\n",
    "plt.xlabel('bmi')\n",
    "plt.ylabel('Dia_progress')\n",
    "plt.plot(X_age, model.predict(X_age),color='red')"
   ]
  }
 ],
 "metadata": {
  "kernelspec": {
   "display_name": "Python 3",
   "language": "python",
   "name": "python3"
  },
  "language_info": {
   "codemirror_mode": {
    "name": "ipython",
    "version": 3
   },
   "file_extension": ".py",
   "mimetype": "text/x-python",
   "name": "python",
   "nbconvert_exporter": "python",
   "pygments_lexer": "ipython3",
   "version": "3.8.8"
  }
 },
 "nbformat": 4,
 "nbformat_minor": 5
}
