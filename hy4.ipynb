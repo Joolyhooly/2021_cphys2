{
 "cells": [
  {
   "cell_type": "markdown",
   "id": "27d08f3f",
   "metadata": {},
   "source": [
    "# OR"
   ]
  },
  {
   "cell_type": "code",
   "execution_count": 18,
   "id": "da6f2558",
   "metadata": {},
   "outputs": [],
   "source": [
    "import numpy as np"
   ]
  },
  {
   "cell_type": "code",
   "execution_count": 19,
   "id": "2ffb9563",
   "metadata": {},
   "outputs": [],
   "source": [
    "X = [[0,0],[1,0],[0,1],[1,1]] \n",
    "t = [0,1,1,1]"
   ]
  },
  {
   "cell_type": "code",
   "execution_count": 20,
   "id": "aa089ef1",
   "metadata": {},
   "outputs": [
    {
     "data": {
      "text/plain": [
       "2"
      ]
     },
     "execution_count": 20,
     "metadata": {},
     "output_type": "execute_result"
    }
   ],
   "source": [
    "w = [1,2]\n",
    "b = 1\n",
    "np.dot(w,X[1])+b"
   ]
  },
  {
   "cell_type": "code",
   "execution_count": 21,
   "id": "1c11089f",
   "metadata": {},
   "outputs": [],
   "source": [
    "def perc(x) :\n",
    "    f = np.dot(w,x)+b\n",
    "    if f>=0 :\n",
    "        y=1\n",
    "    else :\n",
    "        y=0\n",
    "    return y"
   ]
  },
  {
   "cell_type": "code",
   "execution_count": 22,
   "id": "450ddd70",
   "metadata": {},
   "outputs": [],
   "source": [
    "perc_f=[]\n",
    "for i in range(4):\n",
    "    perc_f.append(perc(X[i]))"
   ]
  },
  {
   "cell_type": "code",
   "execution_count": 23,
   "id": "0673108c",
   "metadata": {},
   "outputs": [
    {
     "data": {
      "text/plain": [
       "array([False,  True,  True,  True])"
      ]
     },
     "execution_count": 23,
     "metadata": {},
     "output_type": "execute_result"
    }
   ],
   "source": [
    "perc_f==np.array(t)"
   ]
  },
  {
   "cell_type": "code",
   "execution_count": 24,
   "id": "a756b01b",
   "metadata": {},
   "outputs": [],
   "source": [
    "eta = 0.1\n",
    "for n in range(1000):\n",
    "    error_sum = 0\n",
    "    for i in range(4):\n",
    "        error = t[i]-perc(X[i])\n",
    "        error_sum = abs(error_sum)+abs(error)\n",
    "        \n",
    "        w[0]=w[0] + eta*error*X[i][0]\n",
    "        w[1]=w[1] + eta*error*X[i][1]\n",
    "        b= b + eta*error\n",
    "    if(error_sum==0):\n",
    "        break    "
   ]
  },
  {
   "cell_type": "code",
   "execution_count": 25,
   "id": "ba9ed237",
   "metadata": {
    "scrolled": true
   },
   "outputs": [
    {
     "data": {
      "text/plain": [
       "([1.0, 2.0], -0.09999999999999987)"
      ]
     },
     "execution_count": 25,
     "metadata": {},
     "output_type": "execute_result"
    }
   ],
   "source": [
    "w,b"
   ]
  },
  {
   "cell_type": "code",
   "execution_count": 29,
   "id": "76f2d1cd",
   "metadata": {},
   "outputs": [],
   "source": [
    "perc_f=[]\n",
    "for i in range(4):\n",
    "    perc_f.append(perc(X[i]))"
   ]
  },
  {
   "cell_type": "code",
   "execution_count": 30,
   "id": "c2c3739e",
   "metadata": {},
   "outputs": [
    {
     "data": {
      "text/plain": [
       "array([ True,  True,  True,  True])"
      ]
     },
     "execution_count": 30,
     "metadata": {},
     "output_type": "execute_result"
    }
   ],
   "source": [
    "perc_f==np.array(t)"
   ]
  },
  {
   "cell_type": "markdown",
   "id": "d257073f",
   "metadata": {},
   "source": [
    "# Iris classifications"
   ]
  },
  {
   "cell_type": "code",
   "execution_count": 33,
   "id": "c8736c52",
   "metadata": {},
   "outputs": [],
   "source": [
    "import numpy as np"
   ]
  },
  {
   "cell_type": "code",
   "execution_count": 34,
   "id": "4b55ec9c",
   "metadata": {},
   "outputs": [
    {
     "data": {
      "text/plain": [
       "['sepal length (cm)',\n",
       " 'sepal width (cm)',\n",
       " 'petal length (cm)',\n",
       " 'petal width (cm)']"
      ]
     },
     "execution_count": 34,
     "metadata": {},
     "output_type": "execute_result"
    }
   ],
   "source": [
    "from sklearn import datasets\n",
    "iris = datasets.load_iris()\n",
    "iris.target_names\n",
    "iris.feature_names"
   ]
  },
  {
   "cell_type": "code",
   "execution_count": 35,
   "id": "ca43ea36",
   "metadata": {},
   "outputs": [],
   "source": [
    "X = iris.data"
   ]
  },
  {
   "cell_type": "code",
   "execution_count": 36,
   "id": "40a92fd6",
   "metadata": {},
   "outputs": [
    {
     "data": {
      "text/plain": [
       "array(['setosa', 'versicolor', 'virginica'], dtype='<U10')"
      ]
     },
     "execution_count": 36,
     "metadata": {},
     "output_type": "execute_result"
    }
   ],
   "source": [
    "iris.target_names"
   ]
  },
  {
   "cell_type": "code",
   "execution_count": 37,
   "id": "e4548e2f",
   "metadata": {},
   "outputs": [],
   "source": [
    "y = np.where(iris.target>0,1,0)"
   ]
  },
  {
   "cell_type": "code",
   "execution_count": 38,
   "id": "ac9d1fc6",
   "metadata": {},
   "outputs": [
    {
     "data": {
      "text/plain": [
       "10.5"
      ]
     },
     "execution_count": 38,
     "metadata": {},
     "output_type": "execute_result"
    }
   ],
   "source": [
    "w=[1,1,1,1]\n",
    "b = 1\n",
    "np.dot(w,X[1])+b"
   ]
  },
  {
   "cell_type": "code",
   "execution_count": 39,
   "id": "cf7c42c3",
   "metadata": {},
   "outputs": [],
   "source": [
    "perc_f=[]\n",
    "for i in range(150):\n",
    "    perc_f.append(perc(X[i]))"
   ]
  },
  {
   "cell_type": "code",
   "execution_count": 40,
   "id": "b42b1234",
   "metadata": {},
   "outputs": [
    {
     "data": {
      "text/plain": [
       "array([False, False, False, False, False, False, False, False, False,\n",
       "       False, False, False, False, False, False, False, False, False,\n",
       "       False, False, False, False, False, False, False, False, False,\n",
       "       False, False, False, False, False, False, False, False, False,\n",
       "       False, False, False, False, False, False, False, False, False,\n",
       "       False, False, False, False, False,  True,  True,  True,  True,\n",
       "        True,  True,  True,  True,  True,  True,  True,  True,  True,\n",
       "        True,  True,  True,  True,  True,  True,  True,  True,  True,\n",
       "        True,  True,  True,  True,  True,  True,  True,  True,  True,\n",
       "        True,  True,  True,  True,  True,  True,  True,  True,  True,\n",
       "        True,  True,  True,  True,  True,  True,  True,  True,  True,\n",
       "        True,  True,  True,  True,  True,  True,  True,  True,  True,\n",
       "        True,  True,  True,  True,  True,  True,  True,  True,  True,\n",
       "        True,  True,  True,  True,  True,  True,  True,  True,  True,\n",
       "        True,  True,  True,  True,  True,  True,  True,  True,  True,\n",
       "        True,  True,  True,  True,  True,  True,  True,  True,  True,\n",
       "        True,  True,  True,  True,  True,  True])"
      ]
     },
     "execution_count": 40,
     "metadata": {},
     "output_type": "execute_result"
    }
   ],
   "source": [
    "perc_f== y"
   ]
  },
  {
   "cell_type": "code",
   "execution_count": 41,
   "id": "002801ed",
   "metadata": {},
   "outputs": [],
   "source": [
    "def perc(x) :\n",
    "    f = np.dot(w,x)+b\n",
    "    if f>=0 :\n",
    "        y=1\n",
    "    else :\n",
    "        y=0\n",
    "    return y  "
   ]
  },
  {
   "cell_type": "code",
   "execution_count": 42,
   "id": "667737fc",
   "metadata": {},
   "outputs": [],
   "source": [
    "eta = 0.1\n",
    "for n in range(1000):\n",
    "    error_sum = 0\n",
    "    for i in range(150):\n",
    "        error = y[i]-perc(X[i])\n",
    "        error_sum = abs(error_sum)+abs(error)\n",
    "        \n",
    "        w[0]=w[0] + eta*error*X[i][0]\n",
    "        w[1]=w[1] + eta*error*X[i][1]\n",
    "        w[2]=w[2] + eta*error*X[i][2]\n",
    "        w[3]=w[3] + eta*error*X[i][3]\n",
    "        b= b + eta*error\n",
    "    if(error_sum==0):\n",
    "        break     "
   ]
  },
  {
   "cell_type": "code",
   "execution_count": 43,
   "id": "59c44e73",
   "metadata": {},
   "outputs": [
    {
     "data": {
      "text/plain": [
       "([-0.4700000000000001, 0.029999999999999805, 0.59, 0.94], 0.7000000000000001)"
      ]
     },
     "execution_count": 43,
     "metadata": {},
     "output_type": "execute_result"
    }
   ],
   "source": [
    "w, b"
   ]
  },
  {
   "cell_type": "code",
   "execution_count": 44,
   "id": "dfba000a",
   "metadata": {},
   "outputs": [],
   "source": [
    "perc_f=[]\n",
    "for i in range(150):\n",
    "    perc_f.append(perc(X[i]))"
   ]
  },
  {
   "cell_type": "code",
   "execution_count": 45,
   "id": "01c3730e",
   "metadata": {},
   "outputs": [
    {
     "data": {
      "text/plain": [
       "array([ True,  True,  True,  True,  True,  True,  True,  True,  True,\n",
       "        True,  True,  True,  True,  True,  True,  True,  True,  True,\n",
       "        True,  True,  True,  True,  True,  True,  True,  True,  True,\n",
       "        True,  True,  True,  True,  True,  True,  True,  True,  True,\n",
       "        True,  True,  True,  True,  True,  True,  True,  True,  True,\n",
       "        True,  True,  True,  True,  True,  True,  True,  True,  True,\n",
       "        True,  True,  True,  True,  True,  True,  True,  True,  True,\n",
       "        True,  True,  True,  True,  True,  True,  True,  True,  True,\n",
       "        True,  True,  True,  True,  True,  True,  True,  True,  True,\n",
       "        True,  True,  True,  True,  True,  True,  True,  True,  True,\n",
       "        True,  True,  True,  True,  True,  True,  True,  True,  True,\n",
       "        True,  True,  True,  True,  True,  True,  True,  True,  True,\n",
       "        True,  True,  True,  True,  True,  True,  True,  True,  True,\n",
       "        True,  True,  True,  True,  True,  True,  True,  True,  True,\n",
       "        True,  True,  True,  True,  True,  True,  True,  True,  True,\n",
       "        True,  True,  True,  True,  True,  True,  True,  True,  True,\n",
       "        True,  True,  True,  True,  True,  True])"
      ]
     },
     "execution_count": 45,
     "metadata": {},
     "output_type": "execute_result"
    }
   ],
   "source": [
    "perc_f== y"
   ]
  }
 ],
 "metadata": {
  "kernelspec": {
   "display_name": "Python 3",
   "language": "python",
   "name": "python3"
  },
  "language_info": {
   "codemirror_mode": {
    "name": "ipython",
    "version": 3
   },
   "file_extension": ".py",
   "mimetype": "text/x-python",
   "name": "python",
   "nbconvert_exporter": "python",
   "pygments_lexer": "ipython3",
   "version": "3.8.8"
  }
 },
 "nbformat": 4,
 "nbformat_minor": 5
}
