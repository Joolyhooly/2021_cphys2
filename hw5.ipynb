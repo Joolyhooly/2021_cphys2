{
 "cells": [
  {
   "cell_type": "code",
   "execution_count": 1,
   "id": "25d7d0ca",
   "metadata": {},
   "outputs": [],
   "source": [
    "import numpy as np"
   ]
  },
  {
   "cell_type": "code",
   "execution_count": 2,
   "id": "43ef3013",
   "metadata": {},
   "outputs": [],
   "source": [
    "def f(x):\n",
    "    return 1/(1+np.exp(-x))\n",
    "inputs, hiddens, outputs = 3,4,1\n",
    "np.random.seed(1)\n",
    "w=np.random.random((inputs, hiddens))-1\n",
    "omega = 2*np.random.random((hiddens, outputs))-1"
   ]
  },
  {
   "cell_type": "code",
   "execution_count": 3,
   "id": "775a183d",
   "metadata": {},
   "outputs": [],
   "source": [
    "X = np.array([[0,0,1],[0,1,1],[1,0,1],[1,1,1]])\n",
    "y = np.array([[0],[1],[1],[0]])"
   ]
  },
  {
   "cell_type": "code",
   "execution_count": 4,
   "id": "eeac576d",
   "metadata": {},
   "outputs": [],
   "source": [
    "for i in range(4):\n",
    "    neth=np.dot(X[i],w)\n",
    "    h = f(neth)\n",
    "    neto=np.dot(h,omega)\n",
    "    o = f(neto)"
   ]
  },
  {
   "cell_type": "code",
   "execution_count": 5,
   "id": "aedd2835",
   "metadata": {},
   "outputs": [],
   "source": [
    "dh = [0,0,0,0]\n",
    "eta = 1\n",
    "for n in range(10000):\n",
    "    E = 0\n",
    "    for i in range(4):\n",
    "        neth=np.dot(X[i],w)\n",
    "        h = f(neth)\n",
    "        neto = np.dot(h,omega)\n",
    "        o = f(neto)\n",
    "        \n",
    "        E = E + (o-y[i])**2\n",
    "        do=(o-y[i])*f(neto)*(1-f(neto))\n",
    "        for j in range(4):\n",
    "            dh[j] = do*omega[j]*f(neth[j])*(1-f(neth[j]))\n",
    "            omega[j] = omega[j]-eta*do*h[j]\n",
    "            for k in range(3):\n",
    "                w[k][j]=w[k][j]-eta*dh[j]*X[i][k]               "
   ]
  },
  {
   "cell_type": "code",
   "execution_count": 6,
   "id": "b3c3c8a8",
   "metadata": {},
   "outputs": [
    {
     "name": "stdout",
     "output_type": "stream",
     "text": [
      "[0.00051065]\n"
     ]
    }
   ],
   "source": [
    "print(E)"
   ]
  },
  {
   "cell_type": "code",
   "execution_count": 9,
   "id": "e424afbd",
   "metadata": {},
   "outputs": [
    {
     "name": "stdout",
     "output_type": "stream",
     "text": [
      "[ True]\n",
      "[ True]\n",
      "[ True]\n",
      "[ True]\n"
     ]
    }
   ],
   "source": [
    "for i in range(4):\n",
    "    neth=np.dot(X[i],w)\n",
    "    h = f(neth)\n",
    "    neto = np.dot(h,omega)\n",
    "    o = f(neto)\n",
    "    \n",
    "    if o>0.5:\n",
    "        y_2=1\n",
    "    else:\n",
    "        y_2=0\n",
    "        \n",
    "    print(y_2==y[i])"
   ]
  }
 ],
 "metadata": {
  "kernelspec": {
   "display_name": "Python 3",
   "language": "python",
   "name": "python3"
  },
  "language_info": {
   "codemirror_mode": {
    "name": "ipython",
    "version": 3
   },
   "file_extension": ".py",
   "mimetype": "text/x-python",
   "name": "python",
   "nbconvert_exporter": "python",
   "pygments_lexer": "ipython3",
   "version": "3.8.8"
  }
 },
 "nbformat": 4,
 "nbformat_minor": 5
}
