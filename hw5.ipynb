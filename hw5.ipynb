{
 "cells": [
  {
   "cell_type": "code",
   "execution_count": 46,
   "id": "25d7d0ca",
   "metadata": {},
   "outputs": [],
   "source": [
    "import numpy as np"
   ]
  },
  {
   "cell_type": "code",
   "execution_count": 47,
   "id": "43ef3013",
   "metadata": {},
   "outputs": [],
   "source": [
    "def f(x):\n",
    "    return 1/(1+np.exp(-x))\n",
    "inputs, hiddens, outputs = 3,4,1\n",
    "np.random.seed(1)\n",
    "w=np.random.random((inputs, hiddens))-1 #input과 Hidden layers 사이 weight\n",
    "omega = 2*np.random.random((hiddens, outputs))-1 # Hidden 과 Output 사이 weight"
   ]
  },
  {
   "cell_type": "code",
   "execution_count": 48,
   "id": "775a183d",
   "metadata": {},
   "outputs": [],
   "source": [
    "X = np.array([[0,0,1],[0,1,1],[1,0,1],[1,1,1]]) # 세번째 항은 bias\n",
    "y = np.array([[0],[1],[1],[0]]) #target 값"
   ]
  },
  {
   "cell_type": "code",
   "execution_count": 49,
   "id": "eeac576d",
   "metadata": {},
   "outputs": [
    {
     "name": "stdout",
     "output_type": "stream",
     "text": [
      "[ True]\n",
      "[False]\n",
      "[ True]\n",
      "[False]\n"
     ]
    }
   ],
   "source": [
    "for i in range(4):\n",
    "    neth=np.dot(X[i],w) #Hidden layers 입력값 합\n",
    "    h = f(neth) #Hidden layers 출력값\n",
    "    neto=np.dot(h,omega) #output node 입력값\n",
    "    o = f(neto) #output \n",
    "   \n",
    "    if o>0.5:\n",
    "        y_2=1\n",
    "    else:\n",
    "        y_2=0 #sigmoid 값에서 반올림을 통해 0 또는 1 출력하도록 함\n",
    "        \n",
    "    print(y_2==y[i]) #예측값 o와 실제값 y가 다름"
   ]
  },
  {
   "cell_type": "code",
   "execution_count": 50,
   "id": "aedd2835",
   "metadata": {},
   "outputs": [],
   "source": [
    "dh = [0,0,0,0]\n",
    "eta = 1\n",
    "for n in range(10000):\n",
    "    E = 0\n",
    "    for i in range(4):\n",
    "        neth=np.dot(X[i],w)\n",
    "        h = f(neth)\n",
    "        neto = np.dot(h,omega)\n",
    "        o = f(neto)\n",
    "        \n",
    "        E = E + (o-y[i])**2 # loss function으로 MSE 사용\n",
    "        do=(o-y[i])*f(neto)*(1-f(neto))\n",
    "        for j in range(4):\n",
    "            dh[j] = do*omega[j]*f(neth[j])*(1-f(neth[j]))\n",
    "            omega[j] = omega[j]-eta*do*h[j]\n",
    "            for k in range(3):\n",
    "                w[k][j]=w[k][j]-eta*dh[j]*X[i][k]               "
   ]
  },
  {
   "cell_type": "code",
   "execution_count": 51,
   "id": "b3c3c8a8",
   "metadata": {},
   "outputs": [
    {
     "name": "stdout",
     "output_type": "stream",
     "text": [
      "[0.00051065]\n"
     ]
    }
   ],
   "source": [
    "print(E)"
   ]
  },
  {
   "cell_type": "code",
   "execution_count": 52,
   "id": "e424afbd",
   "metadata": {},
   "outputs": [
    {
     "name": "stdout",
     "output_type": "stream",
     "text": [
      "[ True]\n",
      "[ True]\n",
      "[ True]\n",
      "[ True]\n"
     ]
    }
   ],
   "source": [
    "for i in range(4):\n",
    "    neth=np.dot(X[i],w)\n",
    "    h = f(neth)\n",
    "    neto = np.dot(h,omega)\n",
    "    o = f(neto)\n",
    "    \n",
    "    if o>0.5:\n",
    "        y_2=1\n",
    "    else:\n",
    "        y_2=0 #sigmoid 값에서 반올림을 통해 0 또는 1 출력하도록 함\n",
    "        \n",
    "    print(y_2==y[i]) #예측값 o와 실제값 y가 같음을 확인"
   ]
  }
 ],
 "metadata": {
  "kernelspec": {
   "display_name": "Python 3",
   "language": "python",
   "name": "python3"
  },
  "language_info": {
   "codemirror_mode": {
    "name": "ipython",
    "version": 3
   },
   "file_extension": ".py",
   "mimetype": "text/x-python",
   "name": "python",
   "nbconvert_exporter": "python",
   "pygments_lexer": "ipython3",
   "version": "3.8.8"
  }
 },
 "nbformat": 4,
 "nbformat_minor": 5
}
