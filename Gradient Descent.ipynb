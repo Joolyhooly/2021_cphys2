{
 "cells": [
  {
   "cell_type": "code",
   "execution_count": 13,
   "id": "143ad4e0",
   "metadata": {},
   "outputs": [],
   "source": [
    "import numpy as np\n",
    "import matplotlib.pyplot as plt"
   ]
  },
  {
   "cell_type": "code",
   "execution_count": 14,
   "id": "4e3e7592",
   "metadata": {},
   "outputs": [
    {
     "data": {
      "text/plain": [
       "[<matplotlib.lines.Line2D at 0x27f841d3a90>]"
      ]
     },
     "execution_count": 14,
     "metadata": {},
     "output_type": "execute_result"
    },
    {
     "data": {
      "image/png": "[encoded data removed]",
      "text/plain": [
       "<Figure size 432x288 with 1 Axes>"
      ]
     },
     "metadata": {
      "needs_background": "light"
     },
     "output_type": "display_data"
    }
   ],
   "source": [
    "x = np.arange(-10,10,0.01)\n",
    "def f(x):\n",
    "    return 0.5*x**4-3*x**3\n",
    "plt.ylim(-100,100)\n",
    "plt.xlim(-5,7)\n",
    "plt.plot(x,f(x))"
   ]
  },
  {
   "cell_type": "code",
   "execution_count": 15,
   "id": "e3241370",
   "metadata": {},
   "outputs": [],
   "source": [
    "def fp(x):\n",
    "    return 2*x**3-9*x**2"
   ]
  },
  {
   "cell_type": "code",
   "execution_count": 16,
   "id": "92d7f9f1",
   "metadata": {},
   "outputs": [],
   "source": [
    "x=10\n",
    "x_old =-10\n",
    "eps = 0.0001\n",
    "precision= 0.000001"
   ]
  },
  {
   "cell_type": "code",
   "execution_count": 17,
   "id": "fa5f7e88",
   "metadata": {},
   "outputs": [],
   "source": [
    "while (abs(x-x_old)>precision):\n",
    "    x_old = x\n",
    "    x=x_old - eps*fp(x_old)"
   ]
  },
  {
   "cell_type": "code",
   "execution_count": 18,
   "id": "5c46bfee",
   "metadata": {},
   "outputs": [
    {
     "data": {
      "text/plain": [
       "4.500245069524076"
      ]
     },
     "execution_count": 18,
     "metadata": {},
     "output_type": "execute_result"
    }
   ],
   "source": [
    "x"
   ]
  }
 ],
 "metadata": {
  "kernelspec": {
   "display_name": "Python 3",
   "language": "python",
   "name": "python3"
  },
  "language_info": {
   "codemirror_mode": {
    "name": "ipython",
    "version": 3
   },
   "file_extension": ".py",
   "mimetype": "text/x-python",
   "name": "python",
   "nbconvert_exporter": "python",
   "pygments_lexer": "ipython3",
   "version": "3.8.8"
  }
 },
 "nbformat": 4,
 "nbformat_minor": 5
}
