{
 "cells": [
  {
   "cell_type": "code",
   "execution_count": 1,
   "id": "6a582424",
   "metadata": {},
   "outputs": [],
   "source": [
    "import numpy as np\n",
    "import matplotlib.pyplot as plt"
   ]
  },
  {
   "cell_type": "code",
   "execution_count": 2,
   "id": "2af3ff91",
   "metadata": {},
   "outputs": [],
   "source": [
    "from sklearn import datasets"
   ]
  },
  {
   "cell_type": "code",
   "execution_count": 3,
   "id": "13951a69",
   "metadata": {},
   "outputs": [],
   "source": [
    "diabetes =datasets.load_diabetes()"
   ]
  },
  {
   "cell_type": "code",
   "execution_count": 4,
   "id": "2618c879",
   "metadata": {},
   "outputs": [
    {
     "data": {
      "text/plain": [
       "dict_keys(['data', 'target', 'frame', 'DESCR', 'feature_names', 'data_filename', 'target_filename'])"
      ]
     },
     "execution_count": 4,
     "metadata": {},
     "output_type": "execute_result"
    }
   ],
   "source": [
    "diabetes.keys()"
   ]
  },
  {
   "cell_type": "code",
   "execution_count": 5,
   "id": "a266a830",
   "metadata": {},
   "outputs": [
    {
     "name": "stdout",
     "output_type": "stream",
     "text": [
      ".. _diabetes_dataset:\n",
      "\n",
      "Diabetes dataset\n",
      "----------------\n",
      "\n",
      "Ten baseline variables, age, sex, body mass index, average blood\n",
      "pressure, and six blood serum measurements were obtained for each of n =\n",
      "442 diabetes patients, as well as the response of interest, a\n",
      "quantitative measure of disease progression one year after baseline.\n",
      "\n",
      "**Data Set Characteristics:**\n",
      "\n",
      "  :Number of Instances: 442\n",
      "\n",
      "  :Number of Attributes: First 10 columns are numeric predictive values\n",
      "\n",
      "  :Target: Column 11 is a quantitative measure of disease progression one year after baseline\n",
      "\n",
      "  :Attribute Information:\n",
      "      - age     age in years\n",
      "      - sex\n",
      "      - bmi     body mass index\n",
      "      - bp      average blood pressure\n",
      "      - s1      tc, T-Cells (a type of white blood cells)\n",
      "      - s2      ldl, low-density lipoproteins\n",
      "      - s3      hdl, high-density lipoproteins\n",
      "      - s4      tch, thyroid stimulating hormone\n",
      "      - s5      ltg, lamotrigine\n",
      "      - s6      glu, blood sugar level\n",
      "\n",
      "Note: Each of these 10 feature variables have been mean centered and scaled by the standard deviation times `n_samples` (i.e. the sum of squares of each column totals 1).\n",
      "\n",
      "Source URL:\n",
      "https://www4.stat.ncsu.edu/~boos/var.select/diabetes.html\n",
      "\n",
      "For more information see:\n",
      "Bradley Efron, Trevor Hastie, Iain Johnstone and Robert Tibshirani (2004) \"Least Angle Regression,\" Annals of Statistics (with discussion), 407-499.\n",
      "(https://web.stanford.edu/~hastie/Papers/LARS/LeastAngle_2002.pdf)\n"
     ]
    }
   ],
   "source": [
    "print(diabetes.DESCR)"
   ]
  },
  {
   "cell_type": "code",
   "execution_count": 6,
   "id": "f947697b",
   "metadata": {},
   "outputs": [],
   "source": [
    "X_bmi=diabetes.data[:,2]\n",
    "Y=diabetes.target"
   ]
  },
  {
   "cell_type": "code",
   "execution_count": 7,
   "id": "36c25589",
   "metadata": {},
   "outputs": [],
   "source": [
    "a=100;b=100\n",
    "\n",
    "def f(a,b,X):\n",
    "    return a*X+b \n",
    "\n",
    "def mse(a,b,X):\n",
    "    Y_hat=np.array([f(a,b,X_bmi)])\n",
    "    return np.mean((Y_hat-Y)**2)"
   ]
  },
  {
   "cell_type": "code",
   "execution_count": 8,
   "id": "e8fe37a3",
   "metadata": {},
   "outputs": [
    {
     "data": {
      "text/plain": [
       "8240.800787156515"
      ]
     },
     "execution_count": 8,
     "metadata": {},
     "output_type": "execute_result"
    }
   ],
   "source": [
    "mse(a,b,X_bmi)"
   ]
  },
  {
   "cell_type": "code",
   "execution_count": 9,
   "id": "82dc8a96",
   "metadata": {},
   "outputs": [],
   "source": [
    "d=0.01\n",
    "n=0;\n",
    "while(n<100000):\n",
    "    if(mse(a+d,b,X_bmi)>mse(a-d,b,X_bmi)):\n",
    "        a=a-d\n",
    "    else:\n",
    "        a=a+d\n",
    "        \n",
    "    if(mse(a,b+d,X_bmi)>mse(a,b-d,X_bmi)):\n",
    "        b=b-d\n",
    "    else:\n",
    "        b=b+d\n",
    "    n=n+1    "
   ]
  },
  {
   "cell_type": "code",
   "execution_count": 10,
   "id": "269183c8",
   "metadata": {},
   "outputs": [
    {
     "data": {
      "text/plain": [
       "(949.4399999992672, 152.13999999999237)"
      ]
     },
     "execution_count": 10,
     "metadata": {},
     "output_type": "execute_result"
    }
   ],
   "source": [
    "a,b"
   ]
  },
  {
   "cell_type": "code",
   "execution_count": 12,
   "id": "4d830984",
   "metadata": {},
   "outputs": [
    {
     "data": {
      "text/plain": [
       "[<matplotlib.lines.Line2D at 0x161a1184670>]"
      ]
     },
     "execution_count": 12,
     "metadata": {},
     "output_type": "execute_result"
    },
    {
     "data": {
      "image/png": "[encoded data removed]",
      "text/plain": [
       "<Figure size 432x288 with 1 Axes>"
      ]
     },
     "metadata": {
      "needs_background": "light"
     },
     "output_type": "display_data"
    }
   ],
   "source": [
    "plt.plot(X_bmi,Y,'o')\n",
    "plt.title('diabetes Linear Regression')\n",
    "plt.xlabel('bmi')\n",
    "plt.ylabel('Dia_progress')\n",
    "plt.plot(X_bmi,f(a,b,X_bmi))"
   ]
  },
  {
   "cell_type": "code",
   "execution_count": 13,
   "id": "d34cb1d9",
   "metadata": {},
   "outputs": [],
   "source": [
    "from sklearn.linear_model import LinearRegression"
   ]
  },
  {
   "cell_type": "code",
   "execution_count": 14,
   "id": "25b75951",
   "metadata": {},
   "outputs": [],
   "source": [
    "X_bmi.reshape(-1,1)\n",
    "X_bmi = X_bmi.reshape(-1,1)"
   ]
  },
  {
   "cell_type": "code",
   "execution_count": 15,
   "id": "151e4d87",
   "metadata": {},
   "outputs": [
    {
     "data": {
      "text/plain": [
       "LinearRegression()"
      ]
     },
     "execution_count": 15,
     "metadata": {},
     "output_type": "execute_result"
    }
   ],
   "source": [
    "model=LinearRegression()\n",
    "model.fit(X_bmi,Y)"
   ]
  },
  {
   "cell_type": "code",
   "execution_count": null,
   "id": "c193c427",
   "metadata": {},
   "outputs": [],
   "source": [
    "print('coefficiet=', model.coef_)\n",
    "print('intercept=', model.intercept_)"
   ]
  }
 ],
 "metadata": {
  "kernelspec": {
   "display_name": "Python 3",
   "language": "python",
   "name": "python3"
  },
  "language_info": {
   "codemirror_mode": {
    "name": "ipython",
    "version": 3
   },
   "file_extension": ".py",
   "mimetype": "text/x-python",
   "name": "python",
   "nbconvert_exporter": "python",
   "pygments_lexer": "ipython3",
   "version": "3.8.8"
  }
 },
 "nbformat": 4,
 "nbformat_minor": 5
}
